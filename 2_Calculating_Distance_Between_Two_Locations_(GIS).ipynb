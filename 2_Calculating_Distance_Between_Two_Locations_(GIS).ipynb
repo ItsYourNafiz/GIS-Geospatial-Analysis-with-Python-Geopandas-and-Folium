{
  "nbformat": 4,
  "nbformat_minor": 0,
  "metadata": {
    "colab": {
      "provenance": [],
      "authorship_tag": "ABX9TyPpv8Y38pqT16ByCG3u+UVq",
      "include_colab_link": true
    },
    "kernelspec": {
      "name": "python3",
      "display_name": "Python 3"
    },
    "language_info": {
      "name": "python"
    }
  },
  "cells": [
    {
      "cell_type": "markdown",
      "metadata": {
        "id": "view-in-github",
        "colab_type": "text"
      },
      "source": [
        "<a href=\"https://colab.research.google.com/github/ItsYourNafiz/GIS-Geospatial-Analysis-with-Python-Geopandas-and-Folium/blob/main/2_Calculating_Distance_Between_Two_Locations_(GIS).ipynb\" target=\"_parent\"><img src=\"https://colab.research.google.com/assets/colab-badge.svg\" alt=\"Open In Colab\"/></a>"
      ]
    },
    {
      "cell_type": "code",
      "execution_count": 2,
      "metadata": {
        "id": "seRywgX4pt1J"
      },
      "outputs": [],
      "source": [
        "# Import Libraries\n",
        "\n",
        "import geopandas as gpd\n",
        "import folium\n",
        "import geopy\n",
        "from geopy.distance import geodesic"
      ]
    },
    {
      "cell_type": "code",
      "source": [
        "# Define Data\n",
        "\n",
        "data = {\n",
        "    \"City\": [\"Munich\", \"Hamburg\"],  # Define Cities to Measure Distance\n",
        "    \"Latitude\": [48.134885, 53.548908], # Define Latitude for both Cities\n",
        "    \"Longitude\": [11.582004, 9.987089]  # Define Longitude for both Cities\n",
        "}\n"
      ],
      "metadata": {
        "id": "OwaRK9vOqAM6"
      },
      "execution_count": 23,
      "outputs": []
    },
    {
      "cell_type": "code",
      "source": [
        "# Calcualte Distance\n",
        "\n",
        "gdf = gpd.GeoDataFrame(data, geometry=gpd.points_from_xy(data[\"Longitude\"], data[\"Latitude\"]))\n",
        "\n",
        "coords_munich = (gdf.loc[0, \"Latitude\"], gdf.loc[0, \"Longitude\"])\n",
        "coords_hamburg = (gdf.loc[1, \"Latitude\"], gdf.loc[1, \"Longitude\"])\n",
        "\n",
        "distance = geodesic(coords_munich, coords_hamburg).kilometers\n",
        "print(f\"Distance Between Munich and Hamburg: {distance} km\")"
      ],
      "metadata": {
        "colab": {
          "base_uri": "https://localhost:8080/",
          "height": 0
        },
        "id": "TlhWo47nr1lD",
        "outputId": "272ec163-e0da-47d8-ec0c-a65a122ab880"
      },
      "execution_count": 24,
      "outputs": [
        {
          "output_type": "stream",
          "name": "stdout",
          "text": [
            "Distance Between Munich and Hamburg: 612.6279607792966 km\n"
          ]
        }
      ]
    },
    {
      "cell_type": "code",
      "source": [
        "# Create a Map Center Around Midpoint\n",
        "\n",
        "midPoint = [(gdf[\"Latitude\"].mean()), (gdf[\"Longitude\"].mean())]\n",
        "Map = folium.Map(location=midPoint, zoom_start=5)\n",
        "\n",
        "# Add Markers to Cities\n",
        "for idx, row in gdf.iterrows():\n",
        "    folium.Marker(\n",
        "        location=[row[\"Latitude\"], row[\"Longitude\"]],\n",
        "        popup=row[\"City\"],\n",
        "        icon=folium.Icon(color='red')).add_to(Map)\n",
        "\n",
        "# Add Line Connecting Two Points\n",
        "line = folium.PolyLine(\n",
        "    locations=[coords_munich, coords_hamburg],\n",
        "    color=\"blue\",\n",
        "    weight=2.5,\n",
        "    opacity=1)\n",
        "Map.add_child(line)\n",
        "\n",
        "# Display Map\n",
        "Map"
      ],
      "metadata": {
        "colab": {
          "base_uri": "https://localhost:8080/",
          "height": 865
        },
        "id": "Zx3-QohbskzO",
        "outputId": "2fcec328-a692-445a-a34c-e3990922d4bd"
      },
      "execution_count": 26,
      "outputs": [
        {
          "output_type": "execute_result",
          "data": {
            "text/plain": [
              "<folium.folium.Map at 0x79c1c6649510>"
            ],
            "text/html": [
              "<div style=\"width:100%;\"><div style=\"position:relative;width:100%;height:0;padding-bottom:60%;\"><span style=\"color:#565656\">Make this Notebook Trusted to load map: File -> Trust Notebook</span><iframe srcdoc=\"&lt;!DOCTYPE html&gt;\n",
              "&lt;html&gt;\n",
              "&lt;head&gt;\n",
              "    \n",
              "    &lt;meta http-equiv=&quot;content-type&quot; content=&quot;text/html; charset=UTF-8&quot; /&gt;\n",
              "    \n",
              "        &lt;script&gt;\n",
              "            L_NO_TOUCH = false;\n",
              "            L_DISABLE_3D = false;\n",
              "        &lt;/script&gt;\n",
              "    \n",
              "    &lt;style&gt;html, body {width: 100%;height: 100%;margin: 0;padding: 0;}&lt;/style&gt;\n",
              "    &lt;style&gt;#map {position:absolute;top:0;bottom:0;right:0;left:0;}&lt;/style&gt;\n",
              "    &lt;script src=&quot;https://cdn.jsdelivr.net/npm/leaflet@1.9.3/dist/leaflet.js&quot;&gt;&lt;/script&gt;\n",
              "    &lt;script src=&quot;https://code.jquery.com/jquery-3.7.1.min.js&quot;&gt;&lt;/script&gt;\n",
              "    &lt;script src=&quot;https://cdn.jsdelivr.net/npm/bootstrap@5.2.2/dist/js/bootstrap.bundle.min.js&quot;&gt;&lt;/script&gt;\n",
              "    &lt;script src=&quot;https://cdnjs.cloudflare.com/ajax/libs/Leaflet.awesome-markers/2.0.2/leaflet.awesome-markers.js&quot;&gt;&lt;/script&gt;\n",
              "    &lt;link rel=&quot;stylesheet&quot; href=&quot;https://cdn.jsdelivr.net/npm/leaflet@1.9.3/dist/leaflet.css&quot;/&gt;\n",
              "    &lt;link rel=&quot;stylesheet&quot; href=&quot;https://cdn.jsdelivr.net/npm/bootstrap@5.2.2/dist/css/bootstrap.min.css&quot;/&gt;\n",
              "    &lt;link rel=&quot;stylesheet&quot; href=&quot;https://netdna.bootstrapcdn.com/bootstrap/3.0.0/css/bootstrap-glyphicons.css&quot;/&gt;\n",
              "    &lt;link rel=&quot;stylesheet&quot; href=&quot;https://cdn.jsdelivr.net/npm/@fortawesome/fontawesome-free@6.2.0/css/all.min.css&quot;/&gt;\n",
              "    &lt;link rel=&quot;stylesheet&quot; href=&quot;https://cdnjs.cloudflare.com/ajax/libs/Leaflet.awesome-markers/2.0.2/leaflet.awesome-markers.css&quot;/&gt;\n",
              "    &lt;link rel=&quot;stylesheet&quot; href=&quot;https://cdn.jsdelivr.net/gh/python-visualization/folium/folium/templates/leaflet.awesome.rotate.min.css&quot;/&gt;\n",
              "    \n",
              "            &lt;meta name=&quot;viewport&quot; content=&quot;width=device-width,\n",
              "                initial-scale=1.0, maximum-scale=1.0, user-scalable=no&quot; /&gt;\n",
              "            &lt;style&gt;\n",
              "                #map_9bfe1ca465ee158a06f600fc23ea7b2b {\n",
              "                    position: relative;\n",
              "                    width: 100.0%;\n",
              "                    height: 100.0%;\n",
              "                    left: 0.0%;\n",
              "                    top: 0.0%;\n",
              "                }\n",
              "                .leaflet-container { font-size: 1rem; }\n",
              "            &lt;/style&gt;\n",
              "        \n",
              "&lt;/head&gt;\n",
              "&lt;body&gt;\n",
              "    \n",
              "    \n",
              "            &lt;div class=&quot;folium-map&quot; id=&quot;map_9bfe1ca465ee158a06f600fc23ea7b2b&quot; &gt;&lt;/div&gt;\n",
              "        \n",
              "&lt;/body&gt;\n",
              "&lt;script&gt;\n",
              "    \n",
              "    \n",
              "            var map_9bfe1ca465ee158a06f600fc23ea7b2b = L.map(\n",
              "                &quot;map_9bfe1ca465ee158a06f600fc23ea7b2b&quot;,\n",
              "                {\n",
              "                    center: [50.8418965, 10.7845465],\n",
              "                    crs: L.CRS.EPSG3857,\n",
              "                    ...{\n",
              "  &quot;zoom&quot;: 5,\n",
              "  &quot;zoomControl&quot;: true,\n",
              "  &quot;preferCanvas&quot;: false,\n",
              "}\n",
              "\n",
              "                }\n",
              "            );\n",
              "\n",
              "            \n",
              "\n",
              "        \n",
              "    \n",
              "            var tile_layer_27fdc635830b330decee384d0171273a = L.tileLayer(\n",
              "                &quot;https://tile.openstreetmap.org/{z}/{x}/{y}.png&quot;,\n",
              "                {\n",
              "  &quot;minZoom&quot;: 0,\n",
              "  &quot;maxZoom&quot;: 19,\n",
              "  &quot;maxNativeZoom&quot;: 19,\n",
              "  &quot;noWrap&quot;: false,\n",
              "  &quot;attribution&quot;: &quot;\\u0026copy; \\u003ca href=\\&quot;https://www.openstreetmap.org/copyright\\&quot;\\u003eOpenStreetMap\\u003c/a\\u003e contributors&quot;,\n",
              "  &quot;subdomains&quot;: &quot;abc&quot;,\n",
              "  &quot;detectRetina&quot;: false,\n",
              "  &quot;tms&quot;: false,\n",
              "  &quot;opacity&quot;: 1,\n",
              "}\n",
              "\n",
              "            );\n",
              "        \n",
              "    \n",
              "            tile_layer_27fdc635830b330decee384d0171273a.addTo(map_9bfe1ca465ee158a06f600fc23ea7b2b);\n",
              "        \n",
              "    \n",
              "            var marker_c51c73e7f7976d50db9c8126d893a9d9 = L.marker(\n",
              "                [48.134885, 11.582004],\n",
              "                {\n",
              "}\n",
              "            ).addTo(map_9bfe1ca465ee158a06f600fc23ea7b2b);\n",
              "        \n",
              "    \n",
              "            var icon_c569f149b2346dbfff69dbfc5cebfadc = L.AwesomeMarkers.icon(\n",
              "                {\n",
              "  &quot;markerColor&quot;: &quot;red&quot;,\n",
              "  &quot;iconColor&quot;: &quot;white&quot;,\n",
              "  &quot;icon&quot;: &quot;info-sign&quot;,\n",
              "  &quot;prefix&quot;: &quot;glyphicon&quot;,\n",
              "  &quot;extraClasses&quot;: &quot;fa-rotate-0&quot;,\n",
              "}\n",
              "            );\n",
              "        \n",
              "    \n",
              "        var popup_4232628a18090ab3bdeab678f7beafc1 = L.popup({\n",
              "  &quot;maxWidth&quot;: &quot;100%&quot;,\n",
              "});\n",
              "\n",
              "        \n",
              "            \n",
              "                var html_8a138d6e95334cc0ea9ed0f4e1b129dd = $(`&lt;div id=&quot;html_8a138d6e95334cc0ea9ed0f4e1b129dd&quot; style=&quot;width: 100.0%; height: 100.0%;&quot;&gt;Munich&lt;/div&gt;`)[0];\n",
              "                popup_4232628a18090ab3bdeab678f7beafc1.setContent(html_8a138d6e95334cc0ea9ed0f4e1b129dd);\n",
              "            \n",
              "        \n",
              "\n",
              "        marker_c51c73e7f7976d50db9c8126d893a9d9.bindPopup(popup_4232628a18090ab3bdeab678f7beafc1)\n",
              "        ;\n",
              "\n",
              "        \n",
              "    \n",
              "    \n",
              "                marker_c51c73e7f7976d50db9c8126d893a9d9.setIcon(icon_c569f149b2346dbfff69dbfc5cebfadc);\n",
              "            \n",
              "    \n",
              "            var marker_9d17254e94eebf50cf817dae69850b1a = L.marker(\n",
              "                [53.548908, 9.987089],\n",
              "                {\n",
              "}\n",
              "            ).addTo(map_9bfe1ca465ee158a06f600fc23ea7b2b);\n",
              "        \n",
              "    \n",
              "            var icon_8a981bf6c21f01666fd0d16a580be93b = L.AwesomeMarkers.icon(\n",
              "                {\n",
              "  &quot;markerColor&quot;: &quot;red&quot;,\n",
              "  &quot;iconColor&quot;: &quot;white&quot;,\n",
              "  &quot;icon&quot;: &quot;info-sign&quot;,\n",
              "  &quot;prefix&quot;: &quot;glyphicon&quot;,\n",
              "  &quot;extraClasses&quot;: &quot;fa-rotate-0&quot;,\n",
              "}\n",
              "            );\n",
              "        \n",
              "    \n",
              "        var popup_4181c899a2b6de43a1d5989fce6a3033 = L.popup({\n",
              "  &quot;maxWidth&quot;: &quot;100%&quot;,\n",
              "});\n",
              "\n",
              "        \n",
              "            \n",
              "                var html_f9a40454c76b65bf978c4489726f1f72 = $(`&lt;div id=&quot;html_f9a40454c76b65bf978c4489726f1f72&quot; style=&quot;width: 100.0%; height: 100.0%;&quot;&gt;Hamburg&lt;/div&gt;`)[0];\n",
              "                popup_4181c899a2b6de43a1d5989fce6a3033.setContent(html_f9a40454c76b65bf978c4489726f1f72);\n",
              "            \n",
              "        \n",
              "\n",
              "        marker_9d17254e94eebf50cf817dae69850b1a.bindPopup(popup_4181c899a2b6de43a1d5989fce6a3033)\n",
              "        ;\n",
              "\n",
              "        \n",
              "    \n",
              "    \n",
              "                marker_9d17254e94eebf50cf817dae69850b1a.setIcon(icon_8a981bf6c21f01666fd0d16a580be93b);\n",
              "            \n",
              "    \n",
              "            var poly_line_eb0ac32d4fefac9d735713f169ae4c67 = L.polyline(\n",
              "                [[48.134885, 11.582004], [53.548908, 9.987089]],\n",
              "                {&quot;bubblingMouseEvents&quot;: true, &quot;color&quot;: &quot;blue&quot;, &quot;dashArray&quot;: null, &quot;dashOffset&quot;: null, &quot;fill&quot;: false, &quot;fillColor&quot;: &quot;blue&quot;, &quot;fillOpacity&quot;: 0.2, &quot;fillRule&quot;: &quot;evenodd&quot;, &quot;lineCap&quot;: &quot;round&quot;, &quot;lineJoin&quot;: &quot;round&quot;, &quot;noClip&quot;: false, &quot;opacity&quot;: 1, &quot;smoothFactor&quot;: 1.0, &quot;stroke&quot;: true, &quot;weight&quot;: 2.5}\n",
              "            ).addTo(map_9bfe1ca465ee158a06f600fc23ea7b2b);\n",
              "        \n",
              "&lt;/script&gt;\n",
              "&lt;/html&gt;\" style=\"position:absolute;width:100%;height:100%;left:0;top:0;border:none !important;\" allowfullscreen webkitallowfullscreen mozallowfullscreen></iframe></div></div>"
            ]
          },
          "metadata": {},
          "execution_count": 26
        }
      ]
    }
  ]
}